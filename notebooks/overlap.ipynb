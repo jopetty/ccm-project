{
 "cells": [
  {
   "cell_type": "code",
   "execution_count": null,
   "metadata": {},
   "outputs": [],
   "source": [
    "import glob\n",
    "import os\n",
    "from statistics import fmean\n",
    "\n",
    "import pyrootutils\n",
    "from tokenizers import Tokenizer"
   ]
  },
  {
   "cell_type": "code",
   "execution_count": null,
   "metadata": {},
   "outputs": [],
   "source": [
    "PROJECT_ROOT = path = pyrootutils.find_root(\n",
    "    search_from=os.path.abspath(\"\"), indicator=\".project-root\"\n",
    ")"
   ]
  },
  {
   "cell_type": "code",
   "execution_count": null,
   "metadata": {},
   "outputs": [],
   "source": [
    "tkz_dict = {\n",
    "    \"LM-merge-1\": \"outputs/2024-05-06-125114_93f0\",\n",
    "    \"LM-nomerge-1\": \"outputs/2024-05-06-125115_9621\",\n",
    "    \"LM-merge-2\": \"outputs/2024-05-06-125411_bfc9\",\n",
    "    \"LM-nomerge-2\": \"outputs/2024-05-06-125411_90aa\",\n",
    "    \"LM-merge-3\": \"outputs/2024-05-06-125412_5c63\",\n",
    "    \"LM-nomerge-3\": \"outputs/2024-05-06-125411_10c9\",\n",
    "    \"LM-merge-4\": \"outputs/2024-05-06-125411_e5c5\",\n",
    "    \"LM-nomerge-4\": \"outputs/2024-05-06-125411_e6e7\",\n",
    "    \"LM-merge-5\": \"outputs/2024-05-06-125411_1d73\",\n",
    "    \"BPE-nomerge-retrain\": \"outputs/bpe-tokenizers/2024-05-10-114128_b1a1\",\n",
    "    \"BPE-nomerge-noretrain\": \"outputs/bpe-tokenizers/2024-05-10-115123_88af\",\n",
    "    \"BPE-merge-retrain\": \"outputs/bpe-tokenizers/2024-05-10-120039_8a27\",\n",
    "    \"BPE-merge-noretrain\": \"outputs/bpe-tokenizers/2024-05-10-123454_58e0\",\n",
    "}\n",
    "\n",
    "merge_toks = []\n",
    "nomerge_toks = []\n",
    "\n",
    "for tkz, path in tkz_dict.items():\n",
    "    glob_path = PROJECT_ROOT / path / \"[0-9]*-tokenizer.json\"\n",
    "    n_tokenizers = len(glob.glob(str(glob_path)))\n",
    "    if n_tokenizers > 0 and \"LM\" in tkz:\n",
    "        tok_path = str(PROJECT_ROOT / path / f\"{n_tokenizers - 1}-tokenizer.json\")\n",
    "        tok = Tokenizer.from_file(tok_path)\n",
    "        if \"LM-merge\" in tkz:\n",
    "            merge_toks.append(tok)\n",
    "        elif \"LM-nomerge\" in tkz:\n",
    "            nomerge_toks.append(tok)"
   ]
  },
  {
   "cell_type": "code",
   "execution_count": null,
   "metadata": {},
   "outputs": [],
   "source": [
    "merge_vocabs = [set(tok.get_vocab().keys()) for tok in merge_toks]\n",
    "nomerge_vocabs = [set(tok.get_vocab().keys()) for tok in nomerge_toks]\n",
    "\n",
    "merge_lens = fmean([tok.get_vocab_size() for tok in merge_toks])\n",
    "nomerge_lens = fmean([tok.get_vocab_size() for tok in nomerge_toks])\n",
    "\n",
    "merge_vocab_int = set.intersection(*merge_vocabs)\n",
    "nomerge_vocab_int = set.intersection(*nomerge_vocabs)\n",
    "\n",
    "print(\n",
    "    \"merge vocab\", len(merge_vocab_int), merge_lens, len(merge_vocab_int) / merge_lens\n",
    ")\n",
    "print(\n",
    "    \"no merge vocab\",\n",
    "    len(nomerge_vocab_int),\n",
    "    nomerge_lens,\n",
    "    len(nomerge_vocab_int) / nomerge_lens,\n",
    ")\n",
    "\n",
    "merge_vocab_int_lens = fmean([len(s) for s in merge_vocab_int])\n",
    "nomerge_vocab_int_lens = fmean([len(s) for s in nomerge_vocab_int])\n",
    "\n",
    "print(\"merge vocab int len:\", merge_vocab_int_lens)\n",
    "print(\"nomerge vocab int len:\", nomerge_vocab_int_lens)\n",
    "\n",
    "merge_vocab_total_len = fmean([len(s) for v in merge_vocabs for s in v])\n",
    "nomerge_vocab_total_len = fmean([len(s) for v in nomerge_vocabs for s in v])\n",
    "\n",
    "print(\"merge vocab total len:\", merge_vocab_total_len)\n",
    "print(\"nomerge vocab total len:\", nomerge_vocab_total_len)"
   ]
  },
  {
   "cell_type": "code",
   "execution_count": null,
   "metadata": {},
   "outputs": [],
   "source": [
    "print(nomerge_vocabs[0])"
   ]
  },
  {
   "cell_type": "code",
   "execution_count": null,
   "metadata": {},
   "outputs": [],
   "source": []
  }
 ],
 "metadata": {
  "kernelspec": {
   "display_name": ".venv",
   "language": "python",
   "name": "python3"
  },
  "language_info": {
   "codemirror_mode": {
    "name": "ipython",
    "version": 3
   },
   "file_extension": ".py",
   "mimetype": "text/x-python",
   "name": "python",
   "nbconvert_exporter": "python",
   "pygments_lexer": "ipython3",
   "version": "3.12.2"
  }
 },
 "nbformat": 4,
 "nbformat_minor": 2
}
